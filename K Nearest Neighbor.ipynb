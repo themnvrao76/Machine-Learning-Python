{
 "cells": [
  {
   "cell_type": "markdown",
   "metadata": {},
   "source": [
    "# K Nearest Neighbor "
   ]
  },
  {
   "cell_type": "markdown",
   "metadata": {},
   "source": [
    "Here We Will Follow Some Steps:\n",
    "\n",
    "1) Load The Dataset\n",
    "\n",
    "2) Set Data in list\n",
    "\n",
    "3) Create Function in K N N"
   ]
  },
  {
   "cell_type": "code",
   "execution_count": 46,
   "metadata": {},
   "outputs": [],
   "source": [
    "import numpy as np\n",
    "import pandas as pd\n",
    "from collections import Counter\n",
    "dataset=pd.read_csv(\"iris.csv\")"
   ]
  },
  {
   "cell_type": "code",
   "execution_count": 47,
   "metadata": {},
   "outputs": [],
   "source": [
    "dataset[\"class\"]=dataset[\"class\"].replace(\"Iris-setosa\",1)\n",
    "dataset[\"class\"]=dataset[\"class\"].replace(\"Iris-versicolor\",2)\n",
    "dataset[\"class\"]=dataset[\"class\"].replace(\"Iris-virginica\",3)\n",
    "dataset=dataset.values"
   ]
  },
  {
   "cell_type": "code",
   "execution_count": 48,
   "metadata": {},
   "outputs": [],
   "source": [
    "# import random\n",
    "# random.Random(4).shuffle(dataset)"
   ]
  },
  {
   "cell_type": "code",
   "execution_count": 49,
   "metadata": {},
   "outputs": [],
   "source": [
    "trainset={1:[],2:[],3:[]}\n",
    "testset={1:[],2:[],3:[]}"
   ]
  },
  {
   "cell_type": "code",
   "execution_count": 50,
   "metadata": {},
   "outputs": [],
   "source": [
    "train_datax,test_datax=dataset[:-int(0.2*len(dataset))],dataset[-int(0.2*len(dataset)):]"
   ]
  },
  {
   "cell_type": "code",
   "execution_count": 51,
   "metadata": {},
   "outputs": [],
   "source": [
    "for i in train_datax:\n",
    "    trainset[i[-1]].append(i[:-1])\n",
    "for i in test_datax:\n",
    "    testset[i[-1]].append(i[:-1])\n"
   ]
  },
  {
   "cell_type": "code",
   "execution_count": 52,
   "metadata": {},
   "outputs": [],
   "source": [
    "def k_nearest_neighbor(data,test,k):\n",
    "    distance=[]\n",
    "    votes=[]\n",
    "    for group in data:\n",
    "        for i in data[group]:\n",
    "            euclidean_distance=np.linalg.norm(np.array(i)-np.array(test))\n",
    "            distance.append([euclidean_distance,group])\n",
    "    for i in sorted(distance)[:k]:\n",
    "        votes.append(i[1])\n",
    "    return Counter(votes).most_common(1)[0][0]"
   ]
  },
  {
   "cell_type": "code",
   "execution_count": 53,
   "metadata": {},
   "outputs": [
    {
     "name": "stdout",
     "output_type": "stream",
     "text": [
      "0.7666666666666667\n"
     ]
    }
   ],
   "source": [
    "correct=0\n",
    "total=0\n",
    "for group in testset:\n",
    "    for i in testset[group]:\n",
    "        ans=k_nearest_neighbor(trainset,i,k=3)\n",
    "        if(group==ans):\n",
    "            correct+=1\n",
    "        total=total+1\n",
    "print(correct/total)\n",
    "    "
   ]
  },
  {
   "cell_type": "code",
   "execution_count": null,
   "metadata": {},
   "outputs": [],
   "source": []
  },
  {
   "cell_type": "code",
   "execution_count": null,
   "metadata": {},
   "outputs": [],
   "source": []
  },
  {
   "cell_type": "code",
   "execution_count": null,
   "metadata": {},
   "outputs": [],
   "source": []
  },
  {
   "cell_type": "code",
   "execution_count": null,
   "metadata": {},
   "outputs": [],
   "source": []
  },
  {
   "cell_type": "code",
   "execution_count": null,
   "metadata": {},
   "outputs": [],
   "source": []
  },
  {
   "cell_type": "code",
   "execution_count": null,
   "metadata": {},
   "outputs": [],
   "source": []
  }
 ],
 "metadata": {
  "kernelspec": {
   "display_name": "Python 3",
   "language": "python",
   "name": "python3"
  },
  "language_info": {
   "codemirror_mode": {
    "name": "ipython",
    "version": 3
   },
   "file_extension": ".py",
   "mimetype": "text/x-python",
   "name": "python",
   "nbconvert_exporter": "python",
   "pygments_lexer": "ipython3",
   "version": "3.7.4"
  }
 },
 "nbformat": 4,
 "nbformat_minor": 2
}
