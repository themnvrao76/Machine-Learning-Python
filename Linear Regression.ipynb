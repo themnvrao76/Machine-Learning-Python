{
 "cells": [
  {
   "cell_type": "markdown",
   "metadata": {},
   "source": [
    "# Linear Regression From Implimentation "
   ]
  },
  {
   "cell_type": "markdown",
   "metadata": {},
   "source": [
    "There Are Some Steps We Have to Follow :\n",
    "\n",
    "Step 1 : Create A Function Of Hypothesis\n",
    "\n",
    "Step 2 : Create Grediant Descent For Optimization\n",
    "\n",
    "Step 3 : Create Predict Function"
   ]
  },
  {
   "cell_type": "code",
   "execution_count": 9,
   "metadata": {},
   "outputs": [],
   "source": [
    "import pandas as pd\n",
    "import numpy as np\n",
    "from matplotlib import pyplot as plt\n"
   ]
  },
  {
   "cell_type": "code",
   "execution_count": 10,
   "metadata": {},
   "outputs": [],
   "source": [
    "dataset=pd.read_csv(\"D:\\Machine leaning\\Salary_Data.csv\")"
   ]
  },
  {
   "cell_type": "code",
   "execution_count": 44,
   "metadata": {},
   "outputs": [],
   "source": [
    "x=np.array(dataset.iloc[:,0]).reshape(-1,1)\n",
    "y=np.array(dataset.iloc[:,1]).reshape(-1,1)"
   ]
  },
  {
   "cell_type": "code",
   "execution_count": 45,
   "metadata": {},
   "outputs": [],
   "source": [
    "def cost_func(x,y,m,c):\n",
    "    return 1/2*len(x)*(sum(Hypothesis(x,m,c)-y)**2)"
   ]
  },
  {
   "cell_type": "code",
   "execution_count": 46,
   "metadata": {},
   "outputs": [],
   "source": [
    "def Hypothesis(x,m,c):\n",
    "    return m * x + c"
   ]
  },
  {
   "cell_type": "code",
   "execution_count": 108,
   "metadata": {},
   "outputs": [],
   "source": [
    "def Grediant_Descent(x,y,m,c):\n",
    "    learning_rate=0.01\n",
    "    step=6500\n",
    "    dm=0;dc=0\n",
    "    n=len(x)\n",
    "    for i in range(step):\n",
    "#         if(i%100==0):\n",
    "#             plt.plot(x,Hypothesis(x,m,c))\n",
    "#             plt.title(cost_func(x,y,m,c))\n",
    "#             plt.scatter(x,y)\n",
    "        dm=1/n*sum(x*(Hypothesis(x,m,c)-y))\n",
    "        dc=1/n*sum((Hypothesis(x,m,c)-y))\n",
    "        \n",
    "        m = m - learning_rate*dm\n",
    "        c = c - learning_rate*dc\n",
    "    cost=cost_func(x,y,m,c)\n",
    "    return m,c,cost"
   ]
  },
  {
   "cell_type": "code",
   "execution_count": 115,
   "metadata": {},
   "outputs": [],
   "source": [
    "m,c,cost=Grediant_Descent(x,y,0,0)"
   ]
  },
  {
   "cell_type": "code",
   "execution_count": 116,
   "metadata": {},
   "outputs": [],
   "source": [
    "def Predict(x,m,c):\n",
    "    predictans=[]\n",
    "    predictans.append(m*x+c)"
   ]
  },
  {
   "cell_type": "code",
   "execution_count": 118,
   "metadata": {},
   "outputs": [
    {
     "data": {
      "text/plain": [
       "array([[ 36187.13771934],\n",
       "       [ 38077.13092965],\n",
       "       [ 39967.12413996],\n",
       "       [ 44692.10716572],\n",
       "       [ 46582.10037603],\n",
       "       [ 53197.07661211],\n",
       "       [ 54142.07321726],\n",
       "       [ 56032.06642757],\n",
       "       [ 56032.06642757],\n",
       "       [ 60757.04945333],\n",
       "       [ 62647.04266364],\n",
       "       [ 63592.03926879],\n",
       "       [ 63592.03926879],\n",
       "       [ 64537.03587395],\n",
       "       [ 68317.02229456],\n",
       "       [ 72097.00871517],\n",
       "       [ 73987.00192548],\n",
       "       [ 75876.99513579],\n",
       "       [ 81546.97476671],\n",
       "       [ 82491.97137186],\n",
       "       [ 90051.94421309],\n",
       "       [ 92886.93402855],\n",
       "       [100446.90686978],\n",
       "       [103281.89668524],\n",
       "       [108006.879711  ],\n",
       "       [110841.86952646],\n",
       "       [115566.85255223],\n",
       "       [116511.84915738],\n",
       "       [123126.82539346],\n",
       "       [125016.81860376]])"
      ]
     },
     "execution_count": 118,
     "metadata": {},
     "output_type": "execute_result"
    }
   ],
   "source": [
    "Predict(x,m,c)"
   ]
  },
  {
   "cell_type": "code",
   "execution_count": null,
   "metadata": {},
   "outputs": [],
   "source": []
  }
 ],
 "metadata": {
  "kernelspec": {
   "display_name": "Python 3",
   "language": "python",
   "name": "python3"
  },
  "language_info": {
   "codemirror_mode": {
    "name": "ipython",
    "version": 3
   },
   "file_extension": ".py",
   "mimetype": "text/x-python",
   "name": "python",
   "nbconvert_exporter": "python",
   "pygments_lexer": "ipython3",
   "version": "3.7.4"
  }
 },
 "nbformat": 4,
 "nbformat_minor": 2
}
