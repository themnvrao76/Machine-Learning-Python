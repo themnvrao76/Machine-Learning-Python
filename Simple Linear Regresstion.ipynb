{
 "cells": [
  {
   "cell_type": "markdown",
   "metadata": {},
   "source": [
    "# Implinting Linear Regresstion From Scratch"
   ]
  },
  {
   "cell_type": "markdown",
   "metadata": {},
   "source": [
    "Some Steps :\n",
    "\n",
    "1) Create Hypothesis Functions\n",
    "\n",
    "2)Cost Function\n",
    "\n",
    "3)Gradient Descent\n",
    "    "
   ]
  },
  {
   "cell_type": "code",
   "execution_count": 1,
   "metadata": {},
   "outputs": [],
   "source": [
    "import numpy as np\n",
    "import pandas as pd\n",
    "data=pd.read_csv(\"Salary_Data.csv\")"
   ]
  },
  {
   "cell_type": "code",
   "execution_count": 4,
   "metadata": {},
   "outputs": [],
   "source": [
    "x=data[\"YearsExperience\"]\n",
    "y=data[\"Salary\"]"
   ]
  },
  {
   "cell_type": "code",
   "execution_count": 5,
   "metadata": {},
   "outputs": [],
   "source": [
    "def hypothesis(x,b0,b1):\n",
    "    return b0+(b1*x)"
   ]
  },
  {
   "cell_type": "code",
   "execution_count": 101,
   "metadata": {},
   "outputs": [],
   "source": [
    "def cost_function(x,y,b0,b1):\n",
    "    m=len(y)\n",
    "    cost=1/2*len(x)*(sum(hypothesis(x,b0,b1)-y)**2)\n",
    "    return cost"
   ]
  },
  {
   "cell_type": "code",
   "execution_count": 113,
   "metadata": {},
   "outputs": [],
   "source": [
    "def Gradient_descent(x,y):\n",
    "    alpha=0.01\n",
    "    iteration=10000\n",
    "    b0=0\n",
    "    b1=0\n",
    "    m=len(y)\n",
    "    for i in range(iteration):\n",
    "        db0=1/m*(sum(hypothesis(x,b0,b1)-y))\n",
    "        db1=1/m*(sum(x*(hypothesis(x,b0,b1)-y)))\n",
    "        b0=b0-alpha*db0\n",
    "        b1=b1-alpha*db1\n",
    "    cost=cost_function(x,y,b0,b1)\n",
    "    return b0,b1,cost"
   ]
  },
  {
   "cell_type": "code",
   "execution_count": 114,
   "metadata": {},
   "outputs": [],
   "source": [
    "b0,b1,cost=Gradient_descent(x,y)"
   ]
  },
  {
   "cell_type": "code",
   "execution_count": 115,
   "metadata": {},
   "outputs": [
    {
     "data": {
      "text/plain": [
       "(25792.20018347487, 9449.962323709777, 1.394393470693982e-07)"
      ]
     },
     "execution_count": 115,
     "metadata": {},
     "output_type": "execute_result"
    }
   ],
   "source": [
    "b0,b1,cost"
   ]
  }
 ],
 "metadata": {
  "kernelspec": {
   "display_name": "Python 3",
   "language": "python",
   "name": "python3"
  },
  "language_info": {
   "codemirror_mode": {
    "name": "ipython",
    "version": 3
   },
   "file_extension": ".py",
   "mimetype": "text/x-python",
   "name": "python",
   "nbconvert_exporter": "python",
   "pygments_lexer": "ipython3",
   "version": "3.7.4"
  }
 },
 "nbformat": 4,
 "nbformat_minor": 2
}
